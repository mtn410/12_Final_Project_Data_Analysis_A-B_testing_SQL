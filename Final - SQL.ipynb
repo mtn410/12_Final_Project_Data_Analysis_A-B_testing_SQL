{
 "cells": [
  {
   "cell_type": "markdown",
   "id": "9dbfaf26",
   "metadata": {},
   "source": [
    "# SQL Final Project"
   ]
  },
  {
   "cell_type": "markdown",
   "id": "5dc23ec8",
   "metadata": {},
   "source": [
    "### Project Description"
   ]
  },
  {
   "cell_type": "markdown",
   "id": "1c6c5f73",
   "metadata": {},
   "source": [
    "The coronavirus took the entire world by surprise, changing everyone's daily routine. City dwellers no longer spent their free time outside, going to cafes and malls; more people were at home, reading books. That attracted the attention of startups that rushed to develop new apps for book lovers.\n",
    "\n",
    "You've been given a database of one of the services competing in this market. It contains data on books, publishers, authors, and customer ratings and reviews of books. This information will be used to generate a value proposition for a new product. "
   ]
  },
  {
   "cell_type": "markdown",
   "id": "188ca070",
   "metadata": {},
   "source": [
    "### Goals of the study (required queries)"
   ]
  },
  {
   "cell_type": "markdown",
   "id": "a4954e34",
   "metadata": {},
   "source": [
    "* Find the number of books released after January 1, 2000.\n",
    "* Find the number of user reviews and the average rating for each book.\n",
    "* Identify the publisher that has released the greatest number of books with more than 50 pages (this will help you exclude brochures and similar publications from your analysis).\n",
    "* Identify the author with the highest average book rating (look only at books with at least 50 ratings).\n",
    "* Find the average number of text reviews among users who rated more than 50 books."
   ]
  },
  {
   "cell_type": "markdown",
   "id": "6b9b4a1f",
   "metadata": {},
   "source": [
    "# Tables Of Contents <a class=\"anchor\" id=\"table_of_contents\"></a>\n",
    "\n",
    "* [Import Libraries](#chapter1)\n",
    "* [Access to the DB](#chapter2)\n",
    "* [Table Queries](#chapter3)\n",
    "* [Taking a look at the data](#chapter4)\n",
    "    * [Books](#chapter4.1)\n",
    "    * [Authors](#chapter4.2)\n",
    "    * [Publishers](#chapter4.3)\n",
    "    * [Ratings](#chapter4.4)\n",
    "    * [Reviews](#chapter4.5)\n",
    "* [SQL Queries](#chapter5)\n",
    "    * [Q1](#chapter5.1)\n",
    "    * [Q2](#chapter5.2)\n",
    "    * [Q3](#chapter5.3)\n",
    "    * [Q4](#chapter5.4)\n",
    "    * [Q5](#chapter5.5)\n",
    "* [General Conclusion](#chapter6)\n"
   ]
  },
  {
   "cell_type": "markdown",
   "id": "5971c552",
   "metadata": {},
   "source": [
    "### Import Libraries<a class=\"anchor\" id=\"chapter1\"></a>"
   ]
  },
  {
   "cell_type": "code",
   "execution_count": 1,
   "id": "c375635a",
   "metadata": {},
   "outputs": [],
   "source": [
    "import pandas as pd\n",
    "from sqlalchemy import create_engine\n",
    "import psycopg2\n",
    "import warnings\n",
    "warnings.filterwarnings('ignore')"
   ]
  },
  {
   "cell_type": "markdown",
   "id": "34e94cc0",
   "metadata": {},
   "source": [
    "### Access to the DB<a class=\"anchor\" id=\"chapter2\"></a>"
   ]
  },
  {
   "cell_type": "code",
   "execution_count": 2,
   "id": "65c4194f",
   "metadata": {},
   "outputs": [],
   "source": [
    "db_config = {'user': 'praktikum_student',         # user name\n",
    "             'pwd': 'Sdf4$2;d-d30pp', # password\n",
    "             'host': 'rc1b-wcoijxj3yxfsf3fs.mdb.yandexcloud.net',\n",
    "             'port': 6432,              # connection port\n",
    "             'db': 'data-analyst-final-project-db'}          # the name of the data base\n",
    "\n",
    "connection_string = 'postgresql://{}:{}@{}:{}/{}'.format(db_config['user'],\n",
    "                                                                     db_config['pwd'],\n",
    "                                                                       db_config['host'],\n",
    "                                                                       db_config['port'],\n",
    "                                                                       db_config['db'])\n",
    "\n",
    "engine = create_engine(connection_string, connect_args={'sslmode':'require'})"
   ]
  },
  {
   "cell_type": "markdown",
   "id": "ca994f66",
   "metadata": {},
   "source": [
    "### Table Queries<a class=\"anchor\" id=\"chapter3\"></a>"
   ]
  },
  {
   "cell_type": "markdown",
   "id": "7f92a274",
   "metadata": {},
   "source": [
    "Function that takes a query and return dataframe for general use."
   ]
  },
  {
   "cell_type": "code",
   "execution_count": 3,
   "id": "c0d400ab",
   "metadata": {},
   "outputs": [],
   "source": [
    "def queryResult(q):\n",
    "    return pd.io.sql.read_sql(q, con = engine)"
   ]
  },
  {
   "cell_type": "markdown",
   "id": "d67fd852",
   "metadata": {},
   "source": [
    "### Taking a look at the data <a class=\"anchor\" id=\"chapter4\"></a>"
   ]
  },
  {
   "cell_type": "code",
   "execution_count": 4,
   "id": "4786d3aa",
   "metadata": {},
   "outputs": [
    {
     "data": {
      "text/plain": [
       "['orders',\n",
       " 'visits',\n",
       " 'advertisment_costs',\n",
       " 'trip',\n",
       " 'C:\\x08oks',\n",
       " 'boks',\n",
       " 'finished_lessons1',\n",
       " 'finished_lessons2',\n",
       " 'publishers',\n",
       " 'authors',\n",
       " 'reviews',\n",
       " 'ratings',\n",
       " 'finished_lessons',\n",
       " 'books']"
      ]
     },
     "execution_count": 4,
     "metadata": {},
     "output_type": "execute_result"
    }
   ],
   "source": [
    "engine.table_names()"
   ]
  },
  {
   "cell_type": "markdown",
   "id": "f5015530",
   "metadata": {},
   "source": [
    "**Books**<a class=\"anchor\" id=\"chapter4.1\"></a>"
   ]
  },
  {
   "cell_type": "code",
   "execution_count": 5,
   "id": "2b88c86d",
   "metadata": {},
   "outputs": [
    {
     "data": {
      "text/html": [
       "<div>\n",
       "<style scoped>\n",
       "    .dataframe tbody tr th:only-of-type {\n",
       "        vertical-align: middle;\n",
       "    }\n",
       "\n",
       "    .dataframe tbody tr th {\n",
       "        vertical-align: top;\n",
       "    }\n",
       "\n",
       "    .dataframe thead th {\n",
       "        text-align: right;\n",
       "    }\n",
       "</style>\n",
       "<table border=\"1\" class=\"dataframe\">\n",
       "  <thead>\n",
       "    <tr style=\"text-align: right;\">\n",
       "      <th></th>\n",
       "      <th>book_id</th>\n",
       "      <th>author_id</th>\n",
       "      <th>title</th>\n",
       "      <th>num_pages</th>\n",
       "      <th>publication_date</th>\n",
       "      <th>publisher_id</th>\n",
       "    </tr>\n",
       "  </thead>\n",
       "  <tbody>\n",
       "    <tr>\n",
       "      <td>0</td>\n",
       "      <td>1</td>\n",
       "      <td>546</td>\n",
       "      <td>'Salem's Lot</td>\n",
       "      <td>594</td>\n",
       "      <td>2005-11-01</td>\n",
       "      <td>93</td>\n",
       "    </tr>\n",
       "    <tr>\n",
       "      <td>1</td>\n",
       "      <td>2</td>\n",
       "      <td>465</td>\n",
       "      <td>1 000 Places to See Before You Die</td>\n",
       "      <td>992</td>\n",
       "      <td>2003-05-22</td>\n",
       "      <td>336</td>\n",
       "    </tr>\n",
       "    <tr>\n",
       "      <td>2</td>\n",
       "      <td>3</td>\n",
       "      <td>407</td>\n",
       "      <td>13 Little Blue Envelopes (Little Blue Envelope...</td>\n",
       "      <td>322</td>\n",
       "      <td>2010-12-21</td>\n",
       "      <td>135</td>\n",
       "    </tr>\n",
       "    <tr>\n",
       "      <td>3</td>\n",
       "      <td>4</td>\n",
       "      <td>82</td>\n",
       "      <td>1491: New Revelations of the Americas Before C...</td>\n",
       "      <td>541</td>\n",
       "      <td>2006-10-10</td>\n",
       "      <td>309</td>\n",
       "    </tr>\n",
       "    <tr>\n",
       "      <td>4</td>\n",
       "      <td>5</td>\n",
       "      <td>125</td>\n",
       "      <td>1776</td>\n",
       "      <td>386</td>\n",
       "      <td>2006-07-04</td>\n",
       "      <td>268</td>\n",
       "    </tr>\n",
       "  </tbody>\n",
       "</table>\n",
       "</div>"
      ],
      "text/plain": [
       "   book_id  author_id                                              title  \\\n",
       "0        1        546                                       'Salem's Lot   \n",
       "1        2        465                 1 000 Places to See Before You Die   \n",
       "2        3        407  13 Little Blue Envelopes (Little Blue Envelope...   \n",
       "3        4         82  1491: New Revelations of the Americas Before C...   \n",
       "4        5        125                                               1776   \n",
       "\n",
       "   num_pages publication_date  publisher_id  \n",
       "0        594       2005-11-01            93  \n",
       "1        992       2003-05-22           336  \n",
       "2        322       2010-12-21           135  \n",
       "3        541       2006-10-10           309  \n",
       "4        386       2006-07-04           268  "
      ]
     },
     "execution_count": 5,
     "metadata": {},
     "output_type": "execute_result"
    }
   ],
   "source": [
    "query = '''\n",
    "           SELECT \n",
    "            *\n",
    "           FROM\n",
    "            books\n",
    "        '''\n",
    "queryResult(query).head()"
   ]
  },
  {
   "cell_type": "markdown",
   "id": "4e8f2782",
   "metadata": {},
   "source": [
    "**Authors**<a class=\"anchor\" id=\"chapter4.2\"></a>"
   ]
  },
  {
   "cell_type": "code",
   "execution_count": 6,
   "id": "572a0cde",
   "metadata": {},
   "outputs": [
    {
     "data": {
      "text/html": [
       "<div>\n",
       "<style scoped>\n",
       "    .dataframe tbody tr th:only-of-type {\n",
       "        vertical-align: middle;\n",
       "    }\n",
       "\n",
       "    .dataframe tbody tr th {\n",
       "        vertical-align: top;\n",
       "    }\n",
       "\n",
       "    .dataframe thead th {\n",
       "        text-align: right;\n",
       "    }\n",
       "</style>\n",
       "<table border=\"1\" class=\"dataframe\">\n",
       "  <thead>\n",
       "    <tr style=\"text-align: right;\">\n",
       "      <th></th>\n",
       "      <th>author_id</th>\n",
       "      <th>author</th>\n",
       "    </tr>\n",
       "  </thead>\n",
       "  <tbody>\n",
       "    <tr>\n",
       "      <td>0</td>\n",
       "      <td>1</td>\n",
       "      <td>A.S. Byatt</td>\n",
       "    </tr>\n",
       "    <tr>\n",
       "      <td>1</td>\n",
       "      <td>2</td>\n",
       "      <td>Aesop/Laura Harris/Laura Gibbs</td>\n",
       "    </tr>\n",
       "    <tr>\n",
       "      <td>2</td>\n",
       "      <td>3</td>\n",
       "      <td>Agatha Christie</td>\n",
       "    </tr>\n",
       "    <tr>\n",
       "      <td>3</td>\n",
       "      <td>4</td>\n",
       "      <td>Alan Brennert</td>\n",
       "    </tr>\n",
       "    <tr>\n",
       "      <td>4</td>\n",
       "      <td>5</td>\n",
       "      <td>Alan Moore/David   Lloyd</td>\n",
       "    </tr>\n",
       "  </tbody>\n",
       "</table>\n",
       "</div>"
      ],
      "text/plain": [
       "   author_id                          author\n",
       "0          1                      A.S. Byatt\n",
       "1          2  Aesop/Laura Harris/Laura Gibbs\n",
       "2          3                 Agatha Christie\n",
       "3          4                   Alan Brennert\n",
       "4          5        Alan Moore/David   Lloyd"
      ]
     },
     "execution_count": 6,
     "metadata": {},
     "output_type": "execute_result"
    }
   ],
   "source": [
    "query = '''\n",
    "           SELECT \n",
    "            *\n",
    "           FROM\n",
    "            authors\n",
    "        '''\n",
    "queryResult(query).head()"
   ]
  },
  {
   "cell_type": "markdown",
   "id": "94e73cc5",
   "metadata": {},
   "source": [
    "**Publishers**<a class=\"anchor\" id=\"chapter4.3\"></a>"
   ]
  },
  {
   "cell_type": "code",
   "execution_count": 7,
   "id": "5f9f084a",
   "metadata": {},
   "outputs": [
    {
     "data": {
      "text/html": [
       "<div>\n",
       "<style scoped>\n",
       "    .dataframe tbody tr th:only-of-type {\n",
       "        vertical-align: middle;\n",
       "    }\n",
       "\n",
       "    .dataframe tbody tr th {\n",
       "        vertical-align: top;\n",
       "    }\n",
       "\n",
       "    .dataframe thead th {\n",
       "        text-align: right;\n",
       "    }\n",
       "</style>\n",
       "<table border=\"1\" class=\"dataframe\">\n",
       "  <thead>\n",
       "    <tr style=\"text-align: right;\">\n",
       "      <th></th>\n",
       "      <th>publisher_id</th>\n",
       "      <th>publisher</th>\n",
       "    </tr>\n",
       "  </thead>\n",
       "  <tbody>\n",
       "    <tr>\n",
       "      <td>0</td>\n",
       "      <td>1</td>\n",
       "      <td>Ace</td>\n",
       "    </tr>\n",
       "    <tr>\n",
       "      <td>1</td>\n",
       "      <td>2</td>\n",
       "      <td>Ace Book</td>\n",
       "    </tr>\n",
       "    <tr>\n",
       "      <td>2</td>\n",
       "      <td>3</td>\n",
       "      <td>Ace Books</td>\n",
       "    </tr>\n",
       "    <tr>\n",
       "      <td>3</td>\n",
       "      <td>4</td>\n",
       "      <td>Ace Hardcover</td>\n",
       "    </tr>\n",
       "    <tr>\n",
       "      <td>4</td>\n",
       "      <td>5</td>\n",
       "      <td>Addison Wesley Publishing Company</td>\n",
       "    </tr>\n",
       "  </tbody>\n",
       "</table>\n",
       "</div>"
      ],
      "text/plain": [
       "   publisher_id                          publisher\n",
       "0             1                                Ace\n",
       "1             2                           Ace Book\n",
       "2             3                          Ace Books\n",
       "3             4                      Ace Hardcover\n",
       "4             5  Addison Wesley Publishing Company"
      ]
     },
     "execution_count": 7,
     "metadata": {},
     "output_type": "execute_result"
    }
   ],
   "source": [
    "query = '''\n",
    "           SELECT \n",
    "            *\n",
    "           FROM\n",
    "            publishers\n",
    "        '''\n",
    "queryResult(query).head()"
   ]
  },
  {
   "cell_type": "markdown",
   "id": "67b12267",
   "metadata": {},
   "source": [
    "**Ratings**<a class=\"anchor\" id=\"chapter4.4\"></a>"
   ]
  },
  {
   "cell_type": "code",
   "execution_count": 8,
   "id": "291b21e1",
   "metadata": {},
   "outputs": [
    {
     "data": {
      "text/html": [
       "<div>\n",
       "<style scoped>\n",
       "    .dataframe tbody tr th:only-of-type {\n",
       "        vertical-align: middle;\n",
       "    }\n",
       "\n",
       "    .dataframe tbody tr th {\n",
       "        vertical-align: top;\n",
       "    }\n",
       "\n",
       "    .dataframe thead th {\n",
       "        text-align: right;\n",
       "    }\n",
       "</style>\n",
       "<table border=\"1\" class=\"dataframe\">\n",
       "  <thead>\n",
       "    <tr style=\"text-align: right;\">\n",
       "      <th></th>\n",
       "      <th>rating_id</th>\n",
       "      <th>book_id</th>\n",
       "      <th>username</th>\n",
       "      <th>rating</th>\n",
       "    </tr>\n",
       "  </thead>\n",
       "  <tbody>\n",
       "    <tr>\n",
       "      <td>0</td>\n",
       "      <td>1</td>\n",
       "      <td>1</td>\n",
       "      <td>ryanfranco</td>\n",
       "      <td>4</td>\n",
       "    </tr>\n",
       "    <tr>\n",
       "      <td>1</td>\n",
       "      <td>2</td>\n",
       "      <td>1</td>\n",
       "      <td>grantpatricia</td>\n",
       "      <td>2</td>\n",
       "    </tr>\n",
       "    <tr>\n",
       "      <td>2</td>\n",
       "      <td>3</td>\n",
       "      <td>1</td>\n",
       "      <td>brandtandrea</td>\n",
       "      <td>5</td>\n",
       "    </tr>\n",
       "    <tr>\n",
       "      <td>3</td>\n",
       "      <td>4</td>\n",
       "      <td>2</td>\n",
       "      <td>lorichen</td>\n",
       "      <td>3</td>\n",
       "    </tr>\n",
       "    <tr>\n",
       "      <td>4</td>\n",
       "      <td>5</td>\n",
       "      <td>2</td>\n",
       "      <td>mariokeller</td>\n",
       "      <td>2</td>\n",
       "    </tr>\n",
       "  </tbody>\n",
       "</table>\n",
       "</div>"
      ],
      "text/plain": [
       "   rating_id  book_id       username  rating\n",
       "0          1        1     ryanfranco       4\n",
       "1          2        1  grantpatricia       2\n",
       "2          3        1   brandtandrea       5\n",
       "3          4        2       lorichen       3\n",
       "4          5        2    mariokeller       2"
      ]
     },
     "execution_count": 8,
     "metadata": {},
     "output_type": "execute_result"
    }
   ],
   "source": [
    "query = '''\n",
    "           SELECT \n",
    "            *\n",
    "           FROM\n",
    "            ratings\n",
    "        '''\n",
    "queryResult(query).head()"
   ]
  },
  {
   "cell_type": "markdown",
   "id": "edb2d3e2",
   "metadata": {},
   "source": [
    "**Reviews**<a class=\"anchor\" id=\"chapter4.5\"></a>"
   ]
  },
  {
   "cell_type": "code",
   "execution_count": 9,
   "id": "a9fb0c34",
   "metadata": {},
   "outputs": [
    {
     "data": {
      "text/html": [
       "<div>\n",
       "<style scoped>\n",
       "    .dataframe tbody tr th:only-of-type {\n",
       "        vertical-align: middle;\n",
       "    }\n",
       "\n",
       "    .dataframe tbody tr th {\n",
       "        vertical-align: top;\n",
       "    }\n",
       "\n",
       "    .dataframe thead th {\n",
       "        text-align: right;\n",
       "    }\n",
       "</style>\n",
       "<table border=\"1\" class=\"dataframe\">\n",
       "  <thead>\n",
       "    <tr style=\"text-align: right;\">\n",
       "      <th></th>\n",
       "      <th>review_id</th>\n",
       "      <th>book_id</th>\n",
       "      <th>username</th>\n",
       "      <th>text</th>\n",
       "    </tr>\n",
       "  </thead>\n",
       "  <tbody>\n",
       "    <tr>\n",
       "      <td>0</td>\n",
       "      <td>1</td>\n",
       "      <td>1</td>\n",
       "      <td>brandtandrea</td>\n",
       "      <td>Mention society tell send professor analysis. ...</td>\n",
       "    </tr>\n",
       "    <tr>\n",
       "      <td>1</td>\n",
       "      <td>2</td>\n",
       "      <td>1</td>\n",
       "      <td>ryanfranco</td>\n",
       "      <td>Foot glass pretty audience hit themselves. Amo...</td>\n",
       "    </tr>\n",
       "    <tr>\n",
       "      <td>2</td>\n",
       "      <td>3</td>\n",
       "      <td>2</td>\n",
       "      <td>lorichen</td>\n",
       "      <td>Listen treat keep worry. Miss husband tax but ...</td>\n",
       "    </tr>\n",
       "    <tr>\n",
       "      <td>3</td>\n",
       "      <td>4</td>\n",
       "      <td>3</td>\n",
       "      <td>johnsonamanda</td>\n",
       "      <td>Finally month interesting blue could nature cu...</td>\n",
       "    </tr>\n",
       "    <tr>\n",
       "      <td>4</td>\n",
       "      <td>5</td>\n",
       "      <td>3</td>\n",
       "      <td>scotttamara</td>\n",
       "      <td>Nation purpose heavy give wait song will. List...</td>\n",
       "    </tr>\n",
       "  </tbody>\n",
       "</table>\n",
       "</div>"
      ],
      "text/plain": [
       "   review_id  book_id       username  \\\n",
       "0          1        1   brandtandrea   \n",
       "1          2        1     ryanfranco   \n",
       "2          3        2       lorichen   \n",
       "3          4        3  johnsonamanda   \n",
       "4          5        3    scotttamara   \n",
       "\n",
       "                                                text  \n",
       "0  Mention society tell send professor analysis. ...  \n",
       "1  Foot glass pretty audience hit themselves. Amo...  \n",
       "2  Listen treat keep worry. Miss husband tax but ...  \n",
       "3  Finally month interesting blue could nature cu...  \n",
       "4  Nation purpose heavy give wait song will. List...  "
      ]
     },
     "execution_count": 9,
     "metadata": {},
     "output_type": "execute_result"
    }
   ],
   "source": [
    "query = '''\n",
    "           SELECT \n",
    "            *\n",
    "           FROM\n",
    "            reviews\n",
    "        '''\n",
    "queryResult(query).head()"
   ]
  },
  {
   "cell_type": "markdown",
   "id": "7d78bcd7",
   "metadata": {},
   "source": [
    "# SQL Queries<a class=\"anchor\" id=\"chapter5\"></a>"
   ]
  },
  {
   "cell_type": "markdown",
   "id": "c50217df",
   "metadata": {},
   "source": [
    "**Find the number of books released after January 1, 2000.**<a class=\"anchor\" id=\"chapter5.1\"></a>"
   ]
  },
  {
   "cell_type": "code",
   "execution_count": 10,
   "id": "5db591b9",
   "metadata": {},
   "outputs": [
    {
     "data": {
      "text/html": [
       "<div>\n",
       "<style scoped>\n",
       "    .dataframe tbody tr th:only-of-type {\n",
       "        vertical-align: middle;\n",
       "    }\n",
       "\n",
       "    .dataframe tbody tr th {\n",
       "        vertical-align: top;\n",
       "    }\n",
       "\n",
       "    .dataframe thead th {\n",
       "        text-align: right;\n",
       "    }\n",
       "</style>\n",
       "<table border=\"1\" class=\"dataframe\">\n",
       "  <thead>\n",
       "    <tr style=\"text-align: right;\">\n",
       "      <th></th>\n",
       "      <th>books_amount</th>\n",
       "    </tr>\n",
       "  </thead>\n",
       "  <tbody>\n",
       "    <tr>\n",
       "      <td>0</td>\n",
       "      <td>819</td>\n",
       "    </tr>\n",
       "  </tbody>\n",
       "</table>\n",
       "</div>"
      ],
      "text/plain": [
       "   books_amount\n",
       "0           819"
      ]
     },
     "execution_count": 10,
     "metadata": {},
     "output_type": "execute_result"
    }
   ],
   "source": [
    "query = '''\n",
    "    SELECT\n",
    "        COUNT(DISTINCT book_id) AS books_amount\n",
    "    FROM\n",
    "        books\n",
    "    WHERE\n",
    "        books.publication_date > '2000-01-01'\n",
    "        '''\n",
    "queryResult(query)"
   ]
  },
  {
   "cell_type": "markdown",
   "id": "24c70b47",
   "metadata": {},
   "source": [
    "819 books from the database released after January 1, 2000."
   ]
  },
  {
   "cell_type": "markdown",
   "id": "487f9a57",
   "metadata": {},
   "source": [
    "**Find the number of user reviews and the average rating for each book.**<a class=\"anchor\" id=\"chapter5.2\"></a>"
   ]
  },
  {
   "cell_type": "code",
   "execution_count": 11,
   "id": "26463ad3",
   "metadata": {},
   "outputs": [
    {
     "data": {
      "text/html": [
       "<div>\n",
       "<style scoped>\n",
       "    .dataframe tbody tr th:only-of-type {\n",
       "        vertical-align: middle;\n",
       "    }\n",
       "\n",
       "    .dataframe tbody tr th {\n",
       "        vertical-align: top;\n",
       "    }\n",
       "\n",
       "    .dataframe thead th {\n",
       "        text-align: right;\n",
       "    }\n",
       "</style>\n",
       "<table border=\"1\" class=\"dataframe\">\n",
       "  <thead>\n",
       "    <tr style=\"text-align: right;\">\n",
       "      <th></th>\n",
       "      <th>title</th>\n",
       "      <th>book_id</th>\n",
       "      <th>review_amount</th>\n",
       "      <th>avg_rating</th>\n",
       "    </tr>\n",
       "  </thead>\n",
       "  <tbody>\n",
       "    <tr>\n",
       "      <td>0</td>\n",
       "      <td>Twilight (Twilight  #1)</td>\n",
       "      <td>948</td>\n",
       "      <td>7</td>\n",
       "      <td>3.662500</td>\n",
       "    </tr>\n",
       "    <tr>\n",
       "      <td>1</td>\n",
       "      <td>Water for Elephants</td>\n",
       "      <td>963</td>\n",
       "      <td>6</td>\n",
       "      <td>3.977273</td>\n",
       "    </tr>\n",
       "    <tr>\n",
       "      <td>2</td>\n",
       "      <td>The Glass Castle</td>\n",
       "      <td>734</td>\n",
       "      <td>6</td>\n",
       "      <td>4.206897</td>\n",
       "    </tr>\n",
       "    <tr>\n",
       "      <td>3</td>\n",
       "      <td>Harry Potter and the Prisoner of Azkaban (Harr...</td>\n",
       "      <td>302</td>\n",
       "      <td>6</td>\n",
       "      <td>4.414634</td>\n",
       "    </tr>\n",
       "    <tr>\n",
       "      <td>4</td>\n",
       "      <td>The Curious Incident of the Dog in the Night-Time</td>\n",
       "      <td>695</td>\n",
       "      <td>6</td>\n",
       "      <td>4.081081</td>\n",
       "    </tr>\n",
       "    <tr>\n",
       "      <td>...</td>\n",
       "      <td>...</td>\n",
       "      <td>...</td>\n",
       "      <td>...</td>\n",
       "      <td>...</td>\n",
       "    </tr>\n",
       "    <tr>\n",
       "      <td>995</td>\n",
       "      <td>Anne Rice's The Vampire Lestat: A Graphic Novel</td>\n",
       "      <td>83</td>\n",
       "      <td>0</td>\n",
       "      <td>3.666667</td>\n",
       "    </tr>\n",
       "    <tr>\n",
       "      <td>996</td>\n",
       "      <td>The Natural Way to Draw</td>\n",
       "      <td>808</td>\n",
       "      <td>0</td>\n",
       "      <td>3.000000</td>\n",
       "    </tr>\n",
       "    <tr>\n",
       "      <td>997</td>\n",
       "      <td>The Cat in the Hat and Other Dr. Seuss Favorites</td>\n",
       "      <td>672</td>\n",
       "      <td>0</td>\n",
       "      <td>5.000000</td>\n",
       "    </tr>\n",
       "    <tr>\n",
       "      <td>998</td>\n",
       "      <td>Essential Tales and Poems</td>\n",
       "      <td>221</td>\n",
       "      <td>0</td>\n",
       "      <td>4.000000</td>\n",
       "    </tr>\n",
       "    <tr>\n",
       "      <td>999</td>\n",
       "      <td>Disney's Beauty and the Beast (A Little Golden...</td>\n",
       "      <td>191</td>\n",
       "      <td>0</td>\n",
       "      <td>4.000000</td>\n",
       "    </tr>\n",
       "  </tbody>\n",
       "</table>\n",
       "<p>1000 rows × 4 columns</p>\n",
       "</div>"
      ],
      "text/plain": [
       "                                                 title  book_id  \\\n",
       "0                              Twilight (Twilight  #1)      948   \n",
       "1                                  Water for Elephants      963   \n",
       "2                                     The Glass Castle      734   \n",
       "3    Harry Potter and the Prisoner of Azkaban (Harr...      302   \n",
       "4    The Curious Incident of the Dog in the Night-Time      695   \n",
       "..                                                 ...      ...   \n",
       "995    Anne Rice's The Vampire Lestat: A Graphic Novel       83   \n",
       "996                            The Natural Way to Draw      808   \n",
       "997   The Cat in the Hat and Other Dr. Seuss Favorites      672   \n",
       "998                          Essential Tales and Poems      221   \n",
       "999  Disney's Beauty and the Beast (A Little Golden...      191   \n",
       "\n",
       "     review_amount  avg_rating  \n",
       "0                7    3.662500  \n",
       "1                6    3.977273  \n",
       "2                6    4.206897  \n",
       "3                6    4.414634  \n",
       "4                6    4.081081  \n",
       "..             ...         ...  \n",
       "995              0    3.666667  \n",
       "996              0    3.000000  \n",
       "997              0    5.000000  \n",
       "998              0    4.000000  \n",
       "999              0    4.000000  \n",
       "\n",
       "[1000 rows x 4 columns]"
      ]
     },
     "execution_count": 11,
     "metadata": {},
     "output_type": "execute_result"
    }
   ],
   "source": [
    "query = '''\n",
    "    SELECT\n",
    "        books.title AS title,\n",
    "        books.book_id,\n",
    "        COUNT(DISTINCT reviews.review_id) AS review_amount,\n",
    "        AVG(ratings.rating) AS avg_rating\n",
    "    FROM\n",
    "        books\n",
    "    LEFT JOIN reviews ON \n",
    "        books.book_id = reviews.book_id\n",
    "    LEFT JOIN ratings ON \n",
    "        books.book_id = ratings.book_id\n",
    "    GROUP BY\n",
    "        books.book_id\n",
    "    ORDER BY\n",
    "        review_amount DESC\n",
    "        '''\n",
    "queryResult(query)"
   ]
  },
  {
   "cell_type": "markdown",
   "id": "356e7ac2",
   "metadata": {},
   "source": [
    "We can see the average rating and amount of reviews for each book."
   ]
  },
  {
   "cell_type": "markdown",
   "id": "e8b46687",
   "metadata": {},
   "source": [
    "**Identify the publisher that has released the greatest number of books with more than 50 pages (this will help you exclude brochures and similar publications from your analysis).**<a class=\"anchor\" id=\"chapter5.3\"></a>"
   ]
  },
  {
   "cell_type": "code",
   "execution_count": 12,
   "id": "144f5e62",
   "metadata": {},
   "outputs": [
    {
     "data": {
      "text/html": [
       "<div>\n",
       "<style scoped>\n",
       "    .dataframe tbody tr th:only-of-type {\n",
       "        vertical-align: middle;\n",
       "    }\n",
       "\n",
       "    .dataframe tbody tr th {\n",
       "        vertical-align: top;\n",
       "    }\n",
       "\n",
       "    .dataframe thead th {\n",
       "        text-align: right;\n",
       "    }\n",
       "</style>\n",
       "<table border=\"1\" class=\"dataframe\">\n",
       "  <thead>\n",
       "    <tr style=\"text-align: right;\">\n",
       "      <th></th>\n",
       "      <th>publisher_id</th>\n",
       "      <th>name</th>\n",
       "      <th>books_amount</th>\n",
       "    </tr>\n",
       "  </thead>\n",
       "  <tbody>\n",
       "    <tr>\n",
       "      <td>0</td>\n",
       "      <td>212</td>\n",
       "      <td>Penguin Books</td>\n",
       "      <td>42</td>\n",
       "    </tr>\n",
       "  </tbody>\n",
       "</table>\n",
       "</div>"
      ],
      "text/plain": [
       "   publisher_id           name  books_amount\n",
       "0           212  Penguin Books            42"
      ]
     },
     "execution_count": 12,
     "metadata": {},
     "output_type": "execute_result"
    }
   ],
   "source": [
    "query = '''\n",
    "    SELECT\n",
    "        publishers.publisher_id,\n",
    "        publishers.publisher AS name,\n",
    "        COUNT(DISTINCT book_id) AS books_amount\n",
    "    FROM\n",
    "        publishers\n",
    "    JOIN books ON \n",
    "        publishers.publisher_id = books.publisher_id\n",
    "    WHERE\n",
    "        books.num_pages > 50\n",
    "    GROUP BY\n",
    "        publishers.publisher_id, publishers.publisher \n",
    "    ORDER BY\n",
    "        books_amount DESC\n",
    "    LIMIT\n",
    "        1\n",
    "        '''\n",
    "queryResult(query)"
   ]
  },
  {
   "cell_type": "markdown",
   "id": "53dc4a0e",
   "metadata": {},
   "source": [
    "The publisher Penguin Books, with the publisher_id of 212, released the greatest number of books with more than 50 pages - 42 books."
   ]
  },
  {
   "cell_type": "markdown",
   "id": "95bb576a",
   "metadata": {},
   "source": [
    "**Identify the author with the highest average book rating (look only at books with at least 50 ratings).**<a class=\"anchor\" id=\"chapter5.4\"></a>"
   ]
  },
  {
   "cell_type": "markdown",
   "id": "21e8ac11",
   "metadata": {},
   "source": [
    "Version 1: Highest average rating per author for all his books with at least 50 ratings. "
   ]
  },
  {
   "cell_type": "code",
   "execution_count": 13,
   "id": "bb519f95",
   "metadata": {},
   "outputs": [
    {
     "data": {
      "text/html": [
       "<div>\n",
       "<style scoped>\n",
       "    .dataframe tbody tr th:only-of-type {\n",
       "        vertical-align: middle;\n",
       "    }\n",
       "\n",
       "    .dataframe tbody tr th {\n",
       "        vertical-align: top;\n",
       "    }\n",
       "\n",
       "    .dataframe thead th {\n",
       "        text-align: right;\n",
       "    }\n",
       "</style>\n",
       "<table border=\"1\" class=\"dataframe\">\n",
       "  <thead>\n",
       "    <tr style=\"text-align: right;\">\n",
       "      <th></th>\n",
       "      <th>author_id</th>\n",
       "      <th>author</th>\n",
       "      <th>avg_rating</th>\n",
       "    </tr>\n",
       "  </thead>\n",
       "  <tbody>\n",
       "    <tr>\n",
       "      <td>0</td>\n",
       "      <td>236</td>\n",
       "      <td>J.K. Rowling/Mary GrandPré</td>\n",
       "      <td>4.283844</td>\n",
       "    </tr>\n",
       "  </tbody>\n",
       "</table>\n",
       "</div>"
      ],
      "text/plain": [
       "   author_id                      author  avg_rating\n",
       "0        236  J.K. Rowling/Mary GrandPré    4.283844"
      ]
     },
     "execution_count": 13,
     "metadata": {},
     "output_type": "execute_result"
    }
   ],
   "source": [
    "query = '''\n",
    "    SELECT\n",
    "        author_id,\n",
    "        author,\n",
    "        AVG(avg_rating) AS avg_rating\n",
    "    FROM\n",
    "        (SELECT\n",
    "            authors.author_id,\n",
    "            authors.author,\n",
    "            ratings.book_id,\n",
    "            AVG(ratings.rating) AS avg_rating\n",
    "        FROM\n",
    "            books\n",
    "        JOIN authors ON \n",
    "            books.author_id = authors.author_id\n",
    "        JOIN ratings ON \n",
    "            books.book_id = ratings.book_id\n",
    "        GROUP BY\n",
    "            authors.author_id,\n",
    "            authors.author,\n",
    "            ratings.book_id\n",
    "        HAVING\n",
    "            COUNT(ratings.rating_id) > 49) AS subq\n",
    "    GROUP BY\n",
    "        author_id,\n",
    "        author\n",
    "    ORDER BY\n",
    "        avg_rating DESC\n",
    "    LIMIT\n",
    "        1\n",
    "        '''\n",
    "queryResult(query)"
   ]
  },
  {
   "cell_type": "markdown",
   "id": "b1c079d2",
   "metadata": {},
   "source": [
    "Version 2: Highest average rating per book for books with at least 50 ratings. "
   ]
  },
  {
   "cell_type": "code",
   "execution_count": 14,
   "id": "3b01d1f5",
   "metadata": {},
   "outputs": [
    {
     "data": {
      "text/html": [
       "<div>\n",
       "<style scoped>\n",
       "    .dataframe tbody tr th:only-of-type {\n",
       "        vertical-align: middle;\n",
       "    }\n",
       "\n",
       "    .dataframe tbody tr th {\n",
       "        vertical-align: top;\n",
       "    }\n",
       "\n",
       "    .dataframe thead th {\n",
       "        text-align: right;\n",
       "    }\n",
       "</style>\n",
       "<table border=\"1\" class=\"dataframe\">\n",
       "  <thead>\n",
       "    <tr style=\"text-align: right;\">\n",
       "      <th></th>\n",
       "      <th>author_id</th>\n",
       "      <th>author</th>\n",
       "      <th>book_id</th>\n",
       "      <th>avg_rating</th>\n",
       "    </tr>\n",
       "  </thead>\n",
       "  <tbody>\n",
       "    <tr>\n",
       "      <td>0</td>\n",
       "      <td>236</td>\n",
       "      <td>J.K. Rowling/Mary GrandPré</td>\n",
       "      <td>302</td>\n",
       "      <td>4.414634</td>\n",
       "    </tr>\n",
       "  </tbody>\n",
       "</table>\n",
       "</div>"
      ],
      "text/plain": [
       "   author_id                      author  book_id  avg_rating\n",
       "0        236  J.K. Rowling/Mary GrandPré      302    4.414634"
      ]
     },
     "execution_count": 14,
     "metadata": {},
     "output_type": "execute_result"
    }
   ],
   "source": [
    "query = '''\n",
    "    SELECT\n",
    "        authors.author_id,\n",
    "        authors.author,\n",
    "        ratings.book_id,\n",
    "        AVG(ratings.rating) AS avg_rating\n",
    "    FROM\n",
    "        books\n",
    "    JOIN authors ON \n",
    "        books.author_id = authors.author_id\n",
    "    JOIN ratings ON \n",
    "        books.book_id = ratings.book_id\n",
    "    GROUP BY\n",
    "        authors.author_id,\n",
    "        authors.author,\n",
    "        ratings.book_id\n",
    "    HAVING\n",
    "        COUNT(ratings.rating_id) > 49\n",
    "    ORDER BY\n",
    "        avg_rating DESC\n",
    "    LIMIT\n",
    "        1\n",
    "        '''\n",
    "queryResult(query)"
   ]
  },
  {
   "cell_type": "markdown",
   "id": "86ab0f49",
   "metadata": {},
   "source": [
    "The author J.K. Rowling/Mary GrandPré, with the author_id of 236 is the author with the highest average book rating."
   ]
  },
  {
   "cell_type": "markdown",
   "id": "49c0725d",
   "metadata": {},
   "source": [
    "**Find the average number of text reviews among users who rated more than 50 books.**<a class=\"anchor\" id=\"chapter5.5\"></a>"
   ]
  },
  {
   "cell_type": "code",
   "execution_count": 15,
   "id": "d3a200f1",
   "metadata": {},
   "outputs": [
    {
     "data": {
      "text/html": [
       "<div>\n",
       "<style scoped>\n",
       "    .dataframe tbody tr th:only-of-type {\n",
       "        vertical-align: middle;\n",
       "    }\n",
       "\n",
       "    .dataframe tbody tr th {\n",
       "        vertical-align: top;\n",
       "    }\n",
       "\n",
       "    .dataframe thead th {\n",
       "        text-align: right;\n",
       "    }\n",
       "</style>\n",
       "<table border=\"1\" class=\"dataframe\">\n",
       "  <thead>\n",
       "    <tr style=\"text-align: right;\">\n",
       "      <th></th>\n",
       "      <th>avg_review_amount</th>\n",
       "    </tr>\n",
       "  </thead>\n",
       "  <tbody>\n",
       "    <tr>\n",
       "      <td>0</td>\n",
       "      <td>24.333333</td>\n",
       "    </tr>\n",
       "  </tbody>\n",
       "</table>\n",
       "</div>"
      ],
      "text/plain": [
       "   avg_review_amount\n",
       "0          24.333333"
      ]
     },
     "execution_count": 15,
     "metadata": {},
     "output_type": "execute_result"
    }
   ],
   "source": [
    "query = '''\n",
    "    SELECT\n",
    "        AVG(count) AS avg_review_amount\n",
    "    FROM\n",
    "        (SELECT\n",
    "            username,\n",
    "            COUNT (DISTINCT review_id)\n",
    "        FROM\n",
    "            reviews\n",
    "        WHERE\n",
    "            username IN (SELECT\n",
    "                            username\n",
    "                        FROM\n",
    "                            ratings\n",
    "                        GROUP BY\n",
    "                            username\n",
    "                        HAVING\n",
    "                            COUNT(DISTINCT book_id) > 50)\n",
    "        GROUP BY\n",
    "            username) s\n",
    "        '''\n",
    "queryResult(query)"
   ]
  },
  {
   "cell_type": "markdown",
   "id": "b6df38f9",
   "metadata": {},
   "source": [
    "Among users who rated more than 50 books, the average number of text reviews is 24.333."
   ]
  },
  {
   "cell_type": "markdown",
   "id": "094b0dea",
   "metadata": {},
   "source": [
    "# General Conclusion<a class=\"anchor\" id=\"chapter6\"></a>"
   ]
  },
  {
   "cell_type": "markdown",
   "id": "b2d0ba13",
   "metadata": {},
   "source": [
    "We studied the tables, made an SQL query for each of the tasks and described our conclusions for each of the tasks. This information will help us generate a value proposition for a new product. "
   ]
  }
 ],
 "metadata": {
  "ExecuteTimeLog": [
   {
    "duration": 750,
    "start_time": "2021-10-24T19:29:10.794Z"
   },
   {
    "duration": 26,
    "start_time": "2021-10-24T19:29:11.547Z"
   },
   {
    "duration": 3,
    "start_time": "2021-10-24T19:29:11.576Z"
   },
   {
    "duration": 185,
    "start_time": "2021-10-24T19:29:11.581Z"
   },
   {
    "duration": 86,
    "start_time": "2021-10-24T19:29:11.769Z"
   },
   {
    "duration": 63,
    "start_time": "2021-10-24T19:29:11.858Z"
   },
   {
    "duration": 59,
    "start_time": "2021-10-24T19:29:11.923Z"
   },
   {
    "duration": 90,
    "start_time": "2021-10-24T19:29:11.985Z"
   },
   {
    "duration": 74,
    "start_time": "2021-10-24T19:29:12.077Z"
   },
   {
    "duration": 59,
    "start_time": "2021-10-24T19:29:12.153Z"
   },
   {
    "duration": 73,
    "start_time": "2021-10-24T19:29:12.214Z"
   },
   {
    "duration": 61,
    "start_time": "2021-10-24T19:29:12.290Z"
   },
   {
    "duration": 64,
    "start_time": "2021-10-24T19:29:12.353Z"
   },
   {
    "duration": 65,
    "start_time": "2021-10-24T19:29:12.419Z"
   },
   {
    "duration": 63,
    "start_time": "2021-10-24T19:29:12.486Z"
   },
   {
    "duration": 84,
    "start_time": "2021-10-24T19:45:40.039Z"
   },
   {
    "duration": 88,
    "start_time": "2021-10-24T19:45:44.012Z"
   },
   {
    "duration": 272,
    "start_time": "2021-10-24T20:13:42.977Z"
   },
   {
    "duration": 859,
    "start_time": "2021-10-24T20:13:47.960Z"
   },
   {
    "duration": 39,
    "start_time": "2021-10-24T20:13:48.821Z"
   },
   {
    "duration": 3,
    "start_time": "2021-10-24T20:13:48.863Z"
   },
   {
    "duration": 188,
    "start_time": "2021-10-24T20:13:48.869Z"
   },
   {
    "duration": 90,
    "start_time": "2021-10-24T20:13:49.060Z"
   },
   {
    "duration": 62,
    "start_time": "2021-10-24T20:13:49.153Z"
   },
   {
    "duration": 61,
    "start_time": "2021-10-24T20:13:49.218Z"
   },
   {
    "duration": 96,
    "start_time": "2021-10-24T20:13:49.283Z"
   },
   {
    "duration": 77,
    "start_time": "2021-10-24T20:13:49.381Z"
   },
   {
    "duration": 58,
    "start_time": "2021-10-24T20:13:49.461Z"
   },
   {
    "duration": 79,
    "start_time": "2021-10-24T20:13:49.522Z"
   },
   {
    "duration": 61,
    "start_time": "2021-10-24T20:13:49.603Z"
   },
   {
    "duration": 66,
    "start_time": "2021-10-24T20:13:49.667Z"
   },
   {
    "duration": 66,
    "start_time": "2021-10-24T20:13:49.736Z"
   },
   {
    "duration": 64,
    "start_time": "2021-10-24T20:13:49.804Z"
   },
   {
    "duration": 91,
    "start_time": "2021-10-24T20:14:33.151Z"
   },
   {
    "duration": 95,
    "start_time": "2021-10-24T20:14:56.452Z"
   },
   {
    "duration": 106,
    "start_time": "2021-10-24T20:15:03.050Z"
   },
   {
    "duration": 839,
    "start_time": "2021-10-24T20:16:11.875Z"
   },
   {
    "duration": 41,
    "start_time": "2021-10-24T20:16:12.717Z"
   },
   {
    "duration": 4,
    "start_time": "2021-10-24T20:16:12.762Z"
   },
   {
    "duration": 163,
    "start_time": "2021-10-24T20:16:12.770Z"
   },
   {
    "duration": 80,
    "start_time": "2021-10-24T20:16:12.936Z"
   },
   {
    "duration": 59,
    "start_time": "2021-10-24T20:16:13.019Z"
   },
   {
    "duration": 60,
    "start_time": "2021-10-24T20:16:13.080Z"
   },
   {
    "duration": 83,
    "start_time": "2021-10-24T20:16:13.144Z"
   },
   {
    "duration": 70,
    "start_time": "2021-10-24T20:16:13.231Z"
   },
   {
    "duration": 54,
    "start_time": "2021-10-24T20:16:13.303Z"
   },
   {
    "duration": 73,
    "start_time": "2021-10-24T20:16:13.359Z"
   },
   {
    "duration": 56,
    "start_time": "2021-10-24T20:16:13.435Z"
   },
   {
    "duration": 61,
    "start_time": "2021-10-24T20:16:13.494Z"
   },
   {
    "duration": 60,
    "start_time": "2021-10-24T20:16:13.558Z"
   },
   {
    "duration": 58,
    "start_time": "2021-10-24T20:16:13.620Z"
   }
  ],
  "kernelspec": {
   "display_name": "Python 3",
   "language": "python",
   "name": "python3"
  },
  "language_info": {
   "codemirror_mode": {
    "name": "ipython",
    "version": 3
   },
   "file_extension": ".py",
   "mimetype": "text/x-python",
   "name": "python",
   "nbconvert_exporter": "python",
   "pygments_lexer": "ipython3",
   "version": "3.8.8"
  },
  "toc": {
   "base_numbering": 1,
   "nav_menu": {},
   "number_sections": true,
   "sideBar": true,
   "skip_h1_title": true,
   "title_cell": "Table of Contents",
   "title_sidebar": "Contents",
   "toc_cell": false,
   "toc_position": {},
   "toc_section_display": true,
   "toc_window_display": false
  }
 },
 "nbformat": 4,
 "nbformat_minor": 5
}
